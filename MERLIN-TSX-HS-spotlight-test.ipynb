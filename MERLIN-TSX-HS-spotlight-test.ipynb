{
 "cells": [
  {
   "cell_type": "markdown",
   "metadata": {},
   "source": [
    "**[Download the notebook](https://gitlab.telecom-paris.fr/ring/MERLIN/-/raw/master/MERLIN-TSX-HS-spotlight-test.ipynb?inline=false) and then import it under Google Colab**\n",
    "\n",
    "<a href=\"https://colab.research.google.com/\" target=\"_parent\"><img src=\"https://colab.research.google.com/assets/colab-badge.svg\" alt=\"Open In Colab\"/></a>"
   ]
  },
  {
   "cell_type": "markdown",
   "metadata": {
    "id": "a94OoNwSB4K8"
   },
   "source": [
    "# As if by magic: self-supervised training of despeckling networks with MERLIN\n",
    "## Emanuele Dalsasso, Loïc Denis, Florence Tupin\n",
    "\n",
    "Please note that the training set is only composed of **TerraSAR-X** SAR images **acquired in High Resolution SPOTLIGHT (HS) mode**, thus this testing code is specific to this data."
   ]
  },
  {
   "cell_type": "markdown",
   "metadata": {
    "id": "_ugjl3KuDKwQ"
   },
   "source": [
    "## 0.1. Enable GPU and save copy on Drive to enable editing\n",
    "Runtime -> Change runtime type -> Hardware accelerator: GPU\n",
    "\n",
    "File -> Save a copy in Drive"
   ]
  },
  {
   "cell_type": "markdown",
   "metadata": {},
   "source": [
    "## 0.2. Fetch image data and upload it on Colab\n",
    "Sample images can be found at https://www.intelligence-airbusds.com/imagery/sample-imagery/\n",
    "\n",
    "To get High Resolution SpotLight data, select `Radar Imagery and Data --> Radar Imagery --> TerraSAR-X High-Resolution SpotLight` and then click on `Search` button. Download a Single-Look Complex (SLC) image data, such as *Australia, Uluru - InSAR 1*. You have to fill a form with your data and will get the downloadable link on your inbox. Then, upload your image on Google Colab or alternatively read it locally using the ```cos2mat``` function and upload the image crop of your interest on `/content/MERLIN-TSX-spotlight-test/test_data` after having downloaded network weights as shown below.\n",
    "\n",
    "The corresponding denoised image can be found on the supporting document on Gitlab. A video tutorial showing how the results were obtained is available at:\n"
   ]
  },
  {
   "cell_type": "markdown",
   "metadata": {},
   "source": [
    "## 1. Download network weights and code"
   ]
  },
  {
   "cell_type": "code",
   "execution_count": null,
   "metadata": {},
   "outputs": [],
   "source": [
    "!wget https://gitlab.telecom-paris.fr/ring/MERLIN/-/raw/master/load_cosar.py\n",
    "!wget https://gitlab.telecom-paris.fr/ring/MERLIN/-/raw/master/network_weights/MERLIN-TSX-spotlight-test.zip\n",
    "!unzip /content/MERLIN-TSX-spotlight-test.zip"
   ]
  },
  {
   "cell_type": "code",
   "execution_count": null,
   "metadata": {},
   "outputs": [],
   "source": [
    "import numpy as np\n",
    "from load_cosar import cos2mat\n",
    "image_data = cos2mat('') # fill this line to read the uploaded image\n",
    "np.save('/content/MERLIN-TSX-spotlight-test/test_data/test_image_data.npy',image_data)"
   ]
  },
  {
   "cell_type": "markdown",
   "metadata": {
    "id": "Faq_Z-9TDboL"
   },
   "source": [
    "## 2. Install compatible version of tensorflow"
   ]
  },
  {
   "cell_type": "code",
   "execution_count": null,
   "metadata": {
    "id": "qt7gNr5n0Rf_"
   },
   "outputs": [],
   "source": [
    "!pip uninstall -y tensorflow"
   ]
  },
  {
   "cell_type": "code",
   "execution_count": null,
   "metadata": {
    "id": "fnC1KRKBiubW"
   },
   "outputs": [],
   "source": [
    "!pip install tensorflow-gpu==1.13.1"
   ]
  },
  {
   "cell_type": "markdown",
   "metadata": {
    "id": "vJfhq_QbGvkg"
   },
   "source": [
    "## 3. Test on real data\n",
    "Some **TerraSAR-X Spotlight** images in **Single-Look Complex (SLC)** format can be found in the folder _/content/MERLIN-TSX-spotlight-test/test_data/_\n",
    "\n",
    "\n",
    "To test on custom data, upload your SLC images in a numpy array with shape [ydim, xdim, 2] (where [:,:,0] contains the **real part** and [:,:,1] contains the **imaginary part**) in the folder _/content/MERLIN-TSX-spotlight-test/test_data/_\n",
    "\n",
    "Results are stored in _/content/test_. For each image data, the following files are produced in output:\n",
    "- the imaginary part $a$\n",
    "- the real part $b$\n",
    "- the noisy image in amplitude format: $A=\\sqrt{a^2+b^2}$, where $a$ and $b$ are the real and imaginary part of the single-look complex data, respectively\n",
    "- the squared root $\\sqrt{\\hat{R}_a}$ of the reflectivity estimated from the real part: $f_{CNN}(a)=\\hat{R}_a$\n",
    "- the squared root $\\sqrt{\\hat{R}_b}$ of the reflectivity estimated from the imaginary part: $f_{CNN}(b)=\\hat{R}_b$\n",
    "- the denoised image in amplitude format, obtained by averaging the two intermediate estimations: $\\sqrt{\\hat{R}}=\\sqrt{\\frac{\\hat{R}_a+\\hat{R}_b}{2}}$\n",
    "For each image data, the corresponding _png_ file is generated as follows. A threshold $t$ is estimated (or pre-estimated) on the noisy image: $t = \\mu_A+3\\sigma_A$, with $\\mu_A$ the mean of $A$ and $\\sigma_A$ its standard deviation. This threshold is applied to each image to reduce SAR images long tail. The thresholded dynamic is then shrinked between 0 and 255 for visualization purposes. To produce the _png_ file of the real and imaginary part, $a\\sqrt{2}$ and $b\\sqrt{2}$ are plotted.\n",
    "\n",
    "At each time a test is run, clean the _/content/test_ directory otherwise the results will be overwritten."
   ]
  },
  {
   "cell_type": "code",
   "execution_count": null,
   "metadata": {
    "id": "tBownFrNEU5R"
   },
   "outputs": [],
   "source": [
    "!python /content/MERLIN-TSX-spotlight-test/main.py "
   ]
  },
  {
   "cell_type": "markdown",
   "metadata": {
    "id": "mZTikzYaR0zh"
   },
   "source": [
    "When image dimension exeeds 256, the U-Net is scanned over the image with a default stride of 64 pixels. To change it to a custom value, run the cell below (here it is set to 32, allowing more quality at the cost of a greater runtime)"
   ]
  },
  {
   "cell_type": "code",
   "execution_count": null,
   "metadata": {
    "id": "JdSva30cNp75"
   },
   "outputs": [],
   "source": [
    "!python /content/MERLIN-TSX-spotlight-test/main.py --stride_size=32"
   ]
  }
 ],
 "metadata": {
  "accelerator": "GPU",
  "colab": {
   "collapsed_sections": [],
   "name": "SAR2SAR_GRD_test.ipynb",
   "provenance": [],
   "toc_visible": true
  },
  "kernelspec": {
   "display_name": "Python 3",
   "language": "python",
   "name": "python3"
  },
  "language_info": {
   "codemirror_mode": {
    "name": "ipython",
    "version": 3
   },
   "file_extension": ".py",
   "mimetype": "text/x-python",
   "name": "python",
   "nbconvert_exporter": "python",
   "pygments_lexer": "ipython3",
   "version": "3.7.3"
  }
 },
 "nbformat": 4,
 "nbformat_minor": 1
}